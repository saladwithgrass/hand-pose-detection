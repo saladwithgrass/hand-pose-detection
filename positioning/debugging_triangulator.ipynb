{
 "cells": [
  {
   "cell_type": "code",
   "execution_count": 1,
   "metadata": {},
   "outputs": [
    {
     "name": "stdout",
     "output_type": "stream",
     "text": [
      "Image size is (1920, 1080)\n",
      "Image size is (1920, 1080)\n",
      "AAAAAAAAAAAAAAAAAAAAAAAAAAa\n",
      "[array([[ 1.30658287],\n",
      "       [-0.24183669],\n",
      "       [-0.36029694]]), array([[0.8370347 ],\n",
      "       [0.50877275],\n",
      "       [1.42079534]])]\n",
      "rvec:\n",
      "[[ 0.91981346  0.12222957 -0.37283123]\n",
      " [-0.39134766  0.21773042 -0.89411435]\n",
      " [-0.02811051  0.96832505  0.24810563]]\n",
      "tvec:\n",
      "[array([ 392.85668783,  778.93718914, -413.99540707])]\n",
      "[[ 392.85668783]\n",
      " [ 778.93718914]\n",
      " [-413.99540707]]\n",
      "rt matrix:\n",
      "[[ 9.19813463e-01  1.22229568e-01 -3.72831231e-01  3.92856688e+02]\n",
      " [-3.91347663e-01  2.17730418e-01 -8.94114351e-01  7.78937189e+02]\n",
      " [-2.81105116e-02  9.68325048e-01  2.48105625e-01 -4.13995407e+02]]\n",
      "\n",
      "rvec:\n",
      "[[ 0.11724762 -0.64837912  0.75223502]\n",
      " [ 0.97850234 -0.05398333 -0.19904515]\n",
      " [ 0.16966487  0.75940129  0.62811106]]\n",
      "tvec:\n",
      "[array([-531.92933052,  299.82680741, -762.3439487 ])]\n",
      "[[-531.92933052]\n",
      " [ 299.82680741]\n",
      " [-762.3439487 ]]\n",
      "rt matrix:\n",
      "[[ 1.17247615e-01 -6.48379116e-01  7.52235016e-01 -5.31929331e+02]\n",
      " [ 9.78502340e-01 -5.39833308e-02 -1.99045148e-01  2.99826807e+02]\n",
      " [ 1.69664869e-01  7.59401292e-01  6.28111065e-01 -7.62343949e+02]]\n",
      "\n"
     ]
    }
   ],
   "source": [
    "import os\n",
    "from triangulator import create_triangulator_from_files\n",
    "\n",
    "import sys\n",
    "sys.path.append('../')\n",
    "from utils.file_utils import create_capture_from_json\n",
    "\n",
    "calibration_folder = '../calibration/calibration_data/'\n",
    "intr_L = os.path.join(calibration_folder, 'calibration_L_frames=623_error=1.5265531081871597.pkl')\n",
    "intr_R = os.path.join(calibration_folder, 'calibration_R_frames=624_error=0.99089142253755.pkl')\n",
    "orientation_L = '../calibration/orientation_video_L.mp4.pkl'\n",
    "orientation_R = '../calibration/orientation_video_R.mp4.pkl'\n",
    "\n",
    "triangulator = create_triangulator_from_files(\n",
    "    intr_files=[intr_L, intr_R],\n",
    "    orientation_files=[orientation_L, orientation_R]\n",
    ")"
   ]
  },
  {
   "cell_type": "code",
   "execution_count": 3,
   "metadata": {},
   "outputs": [
    {
     "name": "stdout",
     "output_type": "stream",
     "text": [
      "[ 1.38878569e+05  8.34472582e+05 -4.13995407e+02]\n",
      "[ 392.85668783  778.93718914 -413.99540707    1.        ]\n"
     ]
    }
   ],
   "source": [
    "\n",
    "zero_point_L = (834, 751)\n",
    "zero_point_R = (767, 887)\n",
    "\n",
    "triangulator.triangulate([zero_point_L, zero_point_R])\n",
    "print(triangulator.projection_matrices[0] @ [0, 0, 0, 1])\n",
    "print(triangulator.extrinsics[0] @ [0, 0, 0, 1])"
   ]
  },
  {
   "cell_type": "code",
   "execution_count": 45,
   "metadata": {},
   "outputs": [],
   "source": [
    "caps = [\n",
    "    create_capture_from_json(4, '../config/capture_params.json'),\n",
    "    create_capture_from_json(2, '../config/capture_params.json')\n",
    "]"
   ]
  },
  {
   "cell_type": "code",
   "execution_count": 47,
   "metadata": {},
   "outputs": [],
   "source": [
    "import cv2\n",
    "\n",
    "\n",
    "while True:\n",
    "    idx = 0\n",
    "    for cap in caps:\n",
    "        ret, frame = cap.read()\n",
    "\n",
    "        if not ret:\n",
    "            break\n",
    "\n",
    "        gray = cv2.cvtColor(frame, cv2.COLOR_BGR2GRAY)\n",
    "        corners, ids, _ = cv2.aruco.detectMarkers(\n",
    "            image=gray,\n",
    "            dictionary=cv2.aruco.getPredefinedDictionary(cv2.aruco.DICT_4X4_50)\n",
    "        )\n",
    "        if ids is not None and 0 in ids:\n",
    "            for corner_idx in range(len(ids)):\n",
    "                if ids[corner_idx] == 0:\n",
    "                    cv2.aruco.drawDetectedMarkers(\n",
    "                        frame, \n",
    "                        corners=corners, \n",
    "                        ids=ids\n",
    "                        )\n",
    "                    break\n",
    "        idx += 1\n",
    "        cv2.imshow(f'cam{idx}', cv2.resize(src=frame, dsize=None, fx=0.35, fy=0.35))\n",
    "    if cv2.waitKey(10) == 27:\n",
    "        break\n",
    "\n",
    "\n",
    "cv2.imshow('huh', frame)\n",
    "cv2.waitKey(1000)\n",
    "cv2.destroyAllWindows()"
   ]
  },
  {
   "cell_type": "code",
   "execution_count": 48,
   "metadata": {},
   "outputs": [],
   "source": [
    "for cap in caps:\n",
    "    cap.release()\n",
    "\n",
    "cv2.destroyAllWindows()"
   ]
  },
  {
   "cell_type": "code",
   "execution_count": null,
   "metadata": {},
   "outputs": [],
   "source": []
  }
 ],
 "metadata": {
  "kernelspec": {
   "display_name": "Python 3",
   "language": "python",
   "name": "python3"
  },
  "language_info": {
   "codemirror_mode": {
    "name": "ipython",
    "version": 3
   },
   "file_extension": ".py",
   "mimetype": "text/x-python",
   "name": "python",
   "nbconvert_exporter": "python",
   "pygments_lexer": "ipython3",
   "version": "3.12.8"
  }
 },
 "nbformat": 4,
 "nbformat_minor": 2
}
