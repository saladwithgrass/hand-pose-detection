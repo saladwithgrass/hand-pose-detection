{
 "cells": [
  {
   "cell_type": "code",
   "execution_count": 1,
   "metadata": {},
   "outputs": [
    {
     "name": "stdout",
     "output_type": "stream",
     "text": [
      "Image size is (1920, 1080)\n",
      "Image size is (1920, 1080)\n"
     ]
    }
   ],
   "source": [
    "import os\n",
    "from triangulator import create_triangulator_from_files\n",
    "\n",
    "import sys\n",
    "sys.path.append('../')\n",
    "from utils.file_utils import create_capture_from_json\n",
    "\n",
    "calibration_folder = '../calibration/calibration_data/'\n",
    "intr_L = os.path.join(calibration_folder, 'calibration_L_frames=623_error=1.5265531081871597.pkl')\n",
    "intr_R = os.path.join(calibration_folder, 'calibration_R_frames=624_error=0.99089142253755.pkl')\n",
    "orientation_L = '../calibration/orientation_4.pkl'\n",
    "orientation_R = '../calibration/orientation_2.pkl'\n",
    "\n",
    "triangulator = create_triangulator_from_files(\n",
    "    intr_files=[intr_L, intr_R],\n",
    "    orientation_files=[orientation_L, orientation_R]\n",
    ")"
   ]
  },
  {
   "cell_type": "code",
   "execution_count": 18,
   "metadata": {},
   "outputs": [
    {
     "name": "stdout",
     "output_type": "stream",
     "text": [
      "position from projection matrix:  [572.87374321 743.87228508   1.        ]\n",
      "position from right proj matrix:  [590.94091106 870.31073854   1.        ]\n",
      "position from extrinsics matrix:  [-5.10290077e+02 -2.02182912e+03  1.00000000e+00]\n",
      "position from inverse matrix   :  [572.87374321 743.87228508   1.        ]\n",
      "triangulated zero point:  [  302.94894188   385.77538056 -1800.92635594]\n"
     ]
    }
   ],
   "source": [
    "import numpy as np\n",
    "\n",
    "zero_point_L = (582, 739)\n",
    "zero_point_R = (597, 855)\n",
    "\n",
    "point = (zero_point_L, zero_point_R)\n",
    "\n",
    "projection = triangulator.projection_matrices[0]\n",
    "extr = triangulator.extrinsics[0]\n",
    "cam_matr = triangulator.camera_matrices[0]\n",
    "\n",
    "# get position with triangulators constructed projection matrix\n",
    "position_proj = (projection @ [0, 0, 0, 1])\n",
    "position_proj = position_proj / position_proj[-1]\n",
    "project_right = triangulator.projection_matrices[1] @ [0, 0, 0, 1]\n",
    "project_right = project_right / project_right[-1]\n",
    "\n",
    "# get position with triangulator extrinsics matrix\n",
    "position_extr = (extr @ [0, 0, 0, 1])\n",
    "position_extr = cam_matr @ position_extr[:3]\n",
    "position_extr = position_extr / position_extr[-1]\n",
    "\n",
    "# create inverse projection matrix\n",
    "inv_proj = np.linalg.inv(extr)\n",
    "position_inv = cam_matr @ inv_proj[0:3]\n",
    "position_inv = position_inv @ [0, 0, 0, 1]\n",
    "position_inv = position_inv / position_inv[-1]\n",
    "\n",
    "print('position from projection matrix: ', position_proj)\n",
    "print('position from right proj matrix: ', project_right)\n",
    "print('position from extrinsics matrix: ', position_extr)\n",
    "print('position from inverse matrix   : ', position_inv)\n",
    "\n",
    "print('triangulated zero point: ', triangulator.triangulate(point))"
   ]
  },
  {
   "cell_type": "code",
   "execution_count": 33,
   "metadata": {},
   "outputs": [
    {
     "name": "stdout",
     "output_type": "stream",
     "text": [
      "A: \n",
      " [[ 8.00425265e+05 -8.79170561e+05  1.67557110e+05  3.98432446e+08]\n",
      " [ 1.21565001e+03 -6.43297025e+02  7.89048866e+01 -8.60414644e+03]\n",
      " [ 7.10855749e+05  1.02848966e+06  5.94792201e+05  4.59057911e+08]\n",
      " [ 3.92240566e+02  1.28408596e+03  3.00448919e+02 -5.51459163e+03]]\n",
      "s: \n",
      " [3.69484059e+17 1.87908948e+12 1.68062155e+06 1.58020589e+03]\n",
      "Vt: \n",
      " [[-1.74632857e-03 -3.29776265e-04 -9.19674450e-04 -9.99997998e-01]\n",
      " [ 1.01068158e-01 -9.76157051e-01 -1.92100328e-01  3.22085622e-04]\n",
      " [-9.81549277e-01 -6.63363278e-02 -1.79323439e-01  1.90090668e-03]\n",
      " [-1.62305869e-01 -2.06680418e-01  9.64852176e-01 -5.35753293e-04]]\n",
      "vn: \n",
      " [[-9.99997998e-01]\n",
      " [ 3.22085622e-04]\n",
      " [ 1.90090668e-03]\n",
      " [-5.35753293e-04]]\n",
      "vn normalized: \n",
      " [[ 1.86652702e+03]\n",
      " [-6.01182720e-01]\n",
      " [-3.54810079e+00]\n",
      " [ 1.00000000e+00]]\n",
      "all close:  False\n",
      "w2:  1940556512435.2886\n",
      "triangulated back: \n",
      " [-4.95179108e+03 -1.26951894e+03 -1.00000000e+00]\n"
     ]
    }
   ],
   "source": [
    "A = triangulator.get_DLT_matrix(point)\n",
    "print('A: \\n', A)\n",
    "U, S, Vt = np.linalg.svd(A.T @ A, full_matrices=False)\n",
    "print('s: \\n', S)\n",
    "print('Vt: \\n', Vt)\n",
    "vn = Vt[::, 3]\n",
    "print('vn: \\n', vn.reshape((4, 1)))\n",
    "print('vn normalized: \\n', (vn / vn[-1]).reshape((4, 1)))\n",
    "print('all close: ', np.allclose(U @ np.diag(S) @ Vt, A))\n",
    "print('w2: ', vn.T @ A.T @ A @ vn)\n",
    "\n",
    "# reproject\n",
    "reproj = projection @ vn / vn[-1]\n",
    "reproj = reproj / reproj[-1]\n",
    "reproj = reproj / [-1]\n",
    "print('triangulated back: \\n', reproj)"
   ]
  },
  {
   "cell_type": "code",
   "execution_count": 20,
   "metadata": {},
   "outputs": [
    {
     "name": "stdout",
     "output_type": "stream",
     "text": [
      "[[ 1.08309071e+03 -1.18985701e+03  2.28652066e+02  5.40099812e+05]\n",
      " [-2.12327677e+01 -1.33766810e+02  1.41676714e+03  7.01315580e+05]\n",
      " [-2.27765129e-01 -9.39106497e-01  2.57297559e-01  9.42790307e+02]]\n"
     ]
    }
   ],
   "source": [
    "p1, p2, p3 = tuple(triangulator.projection_matrices[0])\n",
    "# print(p1)\n",
    "# print(p2)\n",
    "# print(p3)\n",
    "print(triangulator.projection_matrices[0])"
   ]
  },
  {
   "cell_type": "code",
   "execution_count": null,
   "metadata": {},
   "outputs": [],
   "source": [
    "caps = [\n",
    "    create_capture_from_json(4, '../config/capture_params.json'),\n",
    "    create_capture_from_json(2, '../config/capture_params.json')\n",
    "]"
   ]
  },
  {
   "cell_type": "code",
   "execution_count": 1,
   "metadata": {},
   "outputs": [
    {
     "ename": "NameError",
     "evalue": "name 'caps' is not defined",
     "output_type": "error",
     "traceback": [
      "\u001b[0;31m---------------------------------------------------------------------------\u001b[0m",
      "\u001b[0;31mNameError\u001b[0m                                 Traceback (most recent call last)",
      "Cell \u001b[0;32mIn[1], line 6\u001b[0m\n\u001b[1;32m      4\u001b[0m \u001b[38;5;28;01mwhile\u001b[39;00m \u001b[38;5;28;01mTrue\u001b[39;00m:\n\u001b[1;32m      5\u001b[0m     idx \u001b[38;5;241m=\u001b[39m \u001b[38;5;241m0\u001b[39m\n\u001b[0;32m----> 6\u001b[0m     \u001b[38;5;28;01mfor\u001b[39;00m cap \u001b[38;5;129;01min\u001b[39;00m \u001b[43mcaps\u001b[49m:\n\u001b[1;32m      7\u001b[0m         ret, frame \u001b[38;5;241m=\u001b[39m cap\u001b[38;5;241m.\u001b[39mread()\n\u001b[1;32m      9\u001b[0m         \u001b[38;5;28;01mif\u001b[39;00m \u001b[38;5;129;01mnot\u001b[39;00m ret:\n",
      "\u001b[0;31mNameError\u001b[0m: name 'caps' is not defined"
     ]
    }
   ],
   "source": [
    "import cv2\n",
    "\n",
    "\n",
    "while True:\n",
    "    idx = 0\n",
    "    for cap in caps:\n",
    "        ret, frame = cap.read()\n",
    "\n",
    "        if not ret:\n",
    "            break\n",
    "\n",
    "        gray = cv2.cvtColor(frame, cv2.COLOR_BGR2GRAY)\n",
    "        corners, ids, _ = cv2.aruco.detectMarkers(\n",
    "            image=gray,\n",
    "            dictionary=cv2.aruco.getPredefinedDictionary(cv2.aruco.DICT_4X4_50)\n",
    "        )\n",
    "        if ids is not None and 0 in ids:\n",
    "            for corner_idx in range(len(ids)):\n",
    "                if ids[corner_idx] == 0:\n",
    "                    cv2.aruco.drawDetectedMarkers(\n",
    "                        frame, \n",
    "                        corners=corners, \n",
    "                        ids=ids\n",
    "                        )\n",
    "                    break\n",
    "        idx += 1\n",
    "        cv2.imshow(f'cam{idx}', cv2.resize(src=frame, dsize=None, fx=0.35, fy=0.35))\n",
    "    if cv2.waitKey(10) == 27:\n",
    "        break\n",
    "\n",
    "\n",
    "cv2.imshow('huh', frame)\n",
    "cv2.waitKey(1000)\n",
    "cv2.destroyAllWindows()"
   ]
  },
  {
   "cell_type": "code",
   "execution_count": 48,
   "metadata": {},
   "outputs": [],
   "source": [
    "for cap in caps:\n",
    "    cap.release()\n",
    "\n",
    "cv2.destroyAllWindows()"
   ]
  },
  {
   "cell_type": "code",
   "execution_count": null,
   "metadata": {},
   "outputs": [],
   "source": []
  }
 ],
 "metadata": {
  "kernelspec": {
   "display_name": "Python 3",
   "language": "python",
   "name": "python3"
  },
  "language_info": {
   "codemirror_mode": {
    "name": "ipython",
    "version": 3
   },
   "file_extension": ".py",
   "mimetype": "text/x-python",
   "name": "python",
   "nbconvert_exporter": "python",
   "pygments_lexer": "ipython3",
   "version": "3.12.8"
  }
 },
 "nbformat": 4,
 "nbformat_minor": 2
}
