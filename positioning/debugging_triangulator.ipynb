{
 "cells": [
  {
   "cell_type": "code",
   "execution_count": 1,
   "metadata": {},
   "outputs": [
    {
     "name": "stdout",
     "output_type": "stream",
     "text": [
      "Image size is (1920, 1080)\n",
      "Image size is (1920, 1080)\n",
      "AAAAAAAAAAAAAAAAAAAAAAAAAAa\n",
      "[array([[ 1.30658287],\n",
      "       [-0.24183669],\n",
      "       [-0.36029694]]), array([[0.8370347 ],\n",
      "       [0.50877275],\n",
      "       [1.42079534]])]\n"
     ]
    }
   ],
   "source": [
    "import os\n",
    "from triangulator import create_triangulator_from_files\n",
    "\n",
    "import sys\n",
    "sys.path.append('../')\n",
    "from utils.file_utils import create_capture_from_json\n",
    "\n",
    "calibration_folder = '../calibration/calibration_data/'\n",
    "intr_L = os.path.join(calibration_folder, 'calibration_L_frames=623_error=1.5265531081871597.pkl')\n",
    "intr_R = os.path.join(calibration_folder, 'calibration_R_frames=624_error=0.99089142253755.pkl')\n",
    "orientation_L = '../calibration/orientation_video_L.mp4.pkl'\n",
    "orientation_R = '../calibration/orientation_video_R.mp4.pkl'\n",
    "\n",
    "triangulator = create_triangulator_from_files(\n",
    "    intr_files=[intr_L, intr_R],\n",
    "    orientation_files=[orientation_L, orientation_R]\n",
    ")"
   ]
  },
  {
   "cell_type": "code",
   "execution_count": 3,
   "metadata": {},
   "outputs": [
    {
     "name": "stdout",
     "output_type": "stream",
     "text": [
      "[833.46269592 753.58957361   1.        ]\n",
      "[ 1.38878569e+05  8.34472582e+05 -4.13995407e+02]\n"
     ]
    }
   ],
   "source": [
    "zero_point_L = (834, 751)\n",
    "zero_point_R = (767, 887)\n",
    "\n",
    "triangulator.triangulate([zero_point_L, zero_point_R])\n",
    "position_q = (triangulator.projection_matrices[0] @ [0, 0, 0, 1])\n",
    "position_q = position_q / position_q[-1]\n",
    "print(position_q)\n",
    "extr_vec = triangulator.extrinsics[0] @ [0, 0, 0, 1]\n",
    "print(triangulator.camera_matrices[0] @ extr_vec[0:3])"
   ]
  },
  {
   "cell_type": "code",
   "execution_count": 7,
   "metadata": {},
   "outputs": [
    {
     "name": "stdout",
     "output_type": "stream",
     "text": [
      "[[ 9.19813463e-01  1.22229568e-01 -3.72831231e-01  3.92856688e+02]\n",
      " [-3.91347663e-01  2.17730418e-01 -8.94114351e-01  7.78937189e+02]\n",
      " [-2.81105116e-02  9.68325048e-01  2.48105625e-01 -4.13995407e+02]]\n",
      "[[-68.15724473]\n",
      " [183.26509932]\n",
      " [945.64275085]]\n"
     ]
    }
   ],
   "source": [
    "import cv2\n",
    "import numpy as np\n",
    "print(np.linalg.inv(triangulator.camera_matrices[0]) @ triangulator.projection_matrices[0])\n",
    "rv_matr, _ = cv2.Rodrigues(triangulator.rvecs[0])\n",
    "print(-rv_matr.T @ triangulator.tvecs[0].T)"
   ]
  },
  {
   "cell_type": "code",
   "execution_count": 5,
   "metadata": {},
   "outputs": [
    {
     "name": "stderr",
     "output_type": "stream",
     "text": [
      "[ WARN:0@1422.668] global cap_v4l.cpp:999 open VIDEOIO(V4L2:/dev/video4): can't open camera by index\n",
      "[ WARN:0@1422.668] global cap.cpp:342 open VIDEOIO(V4L2): backend is generally available but can't be used to capture by index\n",
      "[ WARN:0@1422.669] global cap_v4l.cpp:999 open VIDEOIO(V4L2:/dev/video2): can't open camera by index\n",
      "[ WARN:0@1422.669] global cap.cpp:342 open VIDEOIO(V4L2): backend is generally available but can't be used to capture by index\n"
     ]
    }
   ],
   "source": [
    "caps = [\n",
    "    create_capture_from_json(4, '../config/capture_params.json'),\n",
    "    create_capture_from_json(2, '../config/capture_params.json')\n",
    "]"
   ]
  },
  {
   "cell_type": "code",
   "execution_count": 47,
   "metadata": {},
   "outputs": [],
   "source": [
    "import cv2\n",
    "\n",
    "\n",
    "while True:\n",
    "    idx = 0\n",
    "    for cap in caps:\n",
    "        ret, frame = cap.read()\n",
    "\n",
    "        if not ret:\n",
    "            break\n",
    "\n",
    "        gray = cv2.cvtColor(frame, cv2.COLOR_BGR2GRAY)\n",
    "        corners, ids, _ = cv2.aruco.detectMarkers(\n",
    "            image=gray,\n",
    "            dictionary=cv2.aruco.getPredefinedDictionary(cv2.aruco.DICT_4X4_50)\n",
    "        )\n",
    "        if ids is not None and 0 in ids:\n",
    "            for corner_idx in range(len(ids)):\n",
    "                if ids[corner_idx] == 0:\n",
    "                    cv2.aruco.drawDetectedMarkers(\n",
    "                        frame, \n",
    "                        corners=corners, \n",
    "                        ids=ids\n",
    "                        )\n",
    "                    break\n",
    "        idx += 1\n",
    "        cv2.imshow(f'cam{idx}', cv2.resize(src=frame, dsize=None, fx=0.35, fy=0.35))\n",
    "    if cv2.waitKey(10) == 27:\n",
    "        break\n",
    "\n",
    "\n",
    "cv2.imshow('huh', frame)\n",
    "cv2.waitKey(1000)\n",
    "cv2.destroyAllWindows()"
   ]
  },
  {
   "cell_type": "code",
   "execution_count": 48,
   "metadata": {},
   "outputs": [],
   "source": [
    "for cap in caps:\n",
    "    cap.release()\n",
    "\n",
    "cv2.destroyAllWindows()"
   ]
  },
  {
   "cell_type": "code",
   "execution_count": null,
   "metadata": {},
   "outputs": [],
   "source": []
  }
 ],
 "metadata": {
  "kernelspec": {
   "display_name": "Python 3",
   "language": "python",
   "name": "python3"
  },
  "language_info": {
   "codemirror_mode": {
    "name": "ipython",
    "version": 3
   },
   "file_extension": ".py",
   "mimetype": "text/x-python",
   "name": "python",
   "nbconvert_exporter": "python",
   "pygments_lexer": "ipython3",
   "version": "3.12.8"
  }
 },
 "nbformat": 4,
 "nbformat_minor": 2
}
