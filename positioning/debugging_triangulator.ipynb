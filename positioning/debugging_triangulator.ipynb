{
 "cells": [
  {
   "cell_type": "code",
   "execution_count": 1,
   "metadata": {},
   "outputs": [
    {
     "name": "stdout",
     "output_type": "stream",
     "text": [
      "Image size is (1920, 1080)\n",
      "Image size is (1920, 1080)\n"
     ]
    }
   ],
   "source": [
    "import os\n",
    "from triangulator import create_triangulator_from_files\n",
    "\n",
    "import sys\n",
    "sys.path.append('../')\n",
    "from utils.file_utils import create_capture_from_json\n",
    "\n",
    "calibration_folder = '../calibration/calibration_data/'\n",
    "intr_L = os.path.join(calibration_folder, 'calibration_L_frames=623_error=1.5265531081871597.pkl')\n",
    "intr_R = os.path.join(calibration_folder, 'calibration_R_frames=624_error=0.99089142253755.pkl')\n",
    "orientation_L = '../calibration/orientation_4.pkl'\n",
    "orientation_R = '../calibration/orientation_2.pkl'\n",
    "\n",
    "triangulator = create_triangulator_from_files(\n",
    "    intr_files=[intr_L, intr_R],\n",
    "    orientation_files=[orientation_L, orientation_R]\n",
    ")"
   ]
  },
  {
   "cell_type": "code",
   "execution_count": 4,
   "metadata": {},
   "outputs": [
    {
     "name": "stdout",
     "output_type": "stream",
     "text": [
      "position from projection matrix:  [581.56786281 545.1872889    1.        ]\n",
      "position from right proj matrix:  [555.18191316 713.1679173    1.        ]\n",
      "homo:  [ 1.5706779   1.30009932 -1.86004661  1.        ]\n",
      "triangulated zero point:  [ 1.5706779   1.30009932 -1.86004661]\n"
     ]
    }
   ],
   "source": [
    "import numpy as np\n",
    "actual_point = [0, 0, -150, 1]\n",
    "zero_point_L = (592, 530)\n",
    "zero_point_R = (558, 698)\n",
    "\n",
    "point = (zero_point_L, zero_point_R)\n",
    "\n",
    "projection = triangulator.projection_matrices[0]\n",
    "cam_matr = triangulator.camera_matrices[0]\n",
    "\n",
    "# get position with triangulators constructed projection matrix\n",
    "position_proj = (projection @ actual_point)\n",
    "position_proj = position_proj / position_proj[-1]\n",
    "project_right = triangulator.projection_matrices[1] @ actual_point\n",
    "project_right = project_right / project_right[-1]\n",
    "\n",
    "print('position from projection matrix: ', position_proj)\n",
    "print('position from right proj matrix: ', project_right)\n",
    "\n",
    "print('triangulated zero point: ', triangulator.triangulate(point))"
   ]
  },
  {
   "cell_type": "code",
   "execution_count": 3,
   "metadata": {},
   "outputs": [
    {
     "name": "stdout",
     "output_type": "stream",
     "text": [
      "A: \n",
      " [[-1.01306635e+02 -3.57856628e+02 -1.28197571e+03 -2.05908670e+05]\n",
      " [ 1.20121896e+03 -6.64431871e+02  8.13290341e+01  2.84906729e+03]\n",
      " [ 1.00089877e+03 -8.54792665e+01 -8.94926737e+02 -1.46734096e+05]\n",
      " [ 4.55432799e+02  1.26664041e+03  3.27338913e+02  4.67793424e+04]]\n",
      "s: \n",
      " [2.57155049e+05 1.58620795e+03 1.36583343e+03 2.86810560e+01]\n",
      "Vt: \n",
      " [[ 0.00153163 -0.00217146 -0.00621273 -0.99997717]\n",
      " [ 0.99601924 -0.0777372   0.04359569  0.00142352]\n",
      " [-0.07752572 -0.9969664  -0.00658851  0.00208711]\n",
      " [-0.04396701 -0.00319618  0.99900821 -0.00626711]]\n",
      "vn: \n",
      " [[-0.04396701]\n",
      " [-0.00319618]\n",
      " [ 0.99900821]\n",
      " [-0.00626711]]\n",
      "vn normalized: \n",
      " [[   7.01551484]\n",
      " [   0.50999278]\n",
      " [-159.40488786]\n",
      " [   1.        ]]\n",
      "all close:  True\n",
      "w2:  822.6029727326799\n",
      "triangulated back: \n",
      " [589.72687745 532.74620816   1.        ]\n"
     ]
    }
   ],
   "source": [
    "A = triangulator.get_DLT_matrix(point)\n",
    "print('A: \\n', A)\n",
    "U, S, Vt = np.linalg.svd(A, full_matrices=False)\n",
    "print('s: \\n', S)\n",
    "print('Vt: \\n', Vt)\n",
    "vn = Vt[3, :]\n",
    "print('vn: \\n', vn.reshape((4, 1)))\n",
    "print('vn normalized: \\n', (vn / vn[-1]).reshape((4, 1)))\n",
    "print('all close: ', np.allclose(U @ np.diag(S) @ Vt, A))\n",
    "print('w2: ', vn.T @ A.T @ A @ vn)\n",
    "\n",
    "# reproject\n",
    "reproj = projection @ vn / vn[-1]\n",
    "reproj = reproj / reproj[-1]\n",
    "print('triangulated back: \\n', reproj)"
   ]
  },
  {
   "cell_type": "code",
   "execution_count": 16,
   "metadata": {},
   "outputs": [
    {
     "name": "stdout",
     "output_type": "stream",
     "text": [
      "Temuges: \n",
      " [[-1.01306635e+02 -3.57856628e+02 -1.28197571e+03 -2.05908670e+05]\n",
      " [ 1.20121896e+03 -6.64431871e+02  8.13290341e+01  2.84906729e+03]\n",
      " [ 1.00089877e+03 -8.54792665e+01 -8.94926737e+02 -1.46734096e+05]\n",
      " [ 4.55432799e+02  1.26664041e+03  3.27338913e+02  4.67793424e+04]]\n",
      "[-1.01306635e+02 -3.57856628e+02 -1.28197571e+03 -2.05908670e+05]\n"
     ]
    }
   ],
   "source": [
    "# Temuges DLT\n",
    "point1 = zero_point_L\n",
    "point2 = zero_point_R\n",
    "P1 = triangulator.projection_matrices[0]\n",
    "P2 = triangulator.projection_matrices[1]\n",
    "A = [point1[1]*P1[2,:] - P1[1,:],\n",
    "         P1[0,:] - point1[0]*P1[2,:],\n",
    "         point2[1]*P2[2,:] - P2[1,:],\n",
    "         P2[0,:] - point2[0]*P2[2,:]\n",
    "        ]\n",
    "\n",
    "A = np.array(A).reshape((4, 4))\n",
    "\n",
    "print('Temuges: \\n', A)\n",
    "\n",
    "u, v = zero_point_L\n",
    "p1, p2, p3 = tuple(P1)\n",
    "print(v * p3 - p2)\n",
    "\n",
    "B = A.transpose() @ A\n",
    "U, S, Vh = np.linalg.svd(B, full_matrices=False)\n",
    "# print('triangulated point: ')\n",
    "# print(Vh[3, 0:3] / Vh[3, 3])"
   ]
  },
  {
   "cell_type": "code",
   "execution_count": 20,
   "metadata": {},
   "outputs": [
    {
     "name": "stdout",
     "output_type": "stream",
     "text": [
      "[[ 1.08309071e+03 -1.18985701e+03  2.28652066e+02  5.40099812e+05]\n",
      " [-2.12327677e+01 -1.33766810e+02  1.41676714e+03  7.01315580e+05]\n",
      " [-2.27765129e-01 -9.39106497e-01  2.57297559e-01  9.42790307e+02]]\n"
     ]
    }
   ],
   "source": [
    "p1, p2, p3 = tuple(triangulator.projection_matrices[0])\n",
    "# print(p1)\n",
    "# print(p2)\n",
    "# print(p3)\n",
    "print(triangulator.projection_matrices[0])"
   ]
  },
  {
   "cell_type": "code",
   "execution_count": null,
   "metadata": {},
   "outputs": [],
   "source": [
    "caps = [\n",
    "    create_capture_from_json(4, '../config/capture_params.json'),\n",
    "    create_capture_from_json(2, '../config/capture_params.json')\n",
    "]"
   ]
  },
  {
   "cell_type": "code",
   "execution_count": 1,
   "metadata": {},
   "outputs": [
    {
     "ename": "NameError",
     "evalue": "name 'caps' is not defined",
     "output_type": "error",
     "traceback": [
      "\u001b[0;31m---------------------------------------------------------------------------\u001b[0m",
      "\u001b[0;31mNameError\u001b[0m                                 Traceback (most recent call last)",
      "Cell \u001b[0;32mIn[1], line 6\u001b[0m\n\u001b[1;32m      4\u001b[0m \u001b[38;5;28;01mwhile\u001b[39;00m \u001b[38;5;28;01mTrue\u001b[39;00m:\n\u001b[1;32m      5\u001b[0m     idx \u001b[38;5;241m=\u001b[39m \u001b[38;5;241m0\u001b[39m\n\u001b[0;32m----> 6\u001b[0m     \u001b[38;5;28;01mfor\u001b[39;00m cap \u001b[38;5;129;01min\u001b[39;00m \u001b[43mcaps\u001b[49m:\n\u001b[1;32m      7\u001b[0m         ret, frame \u001b[38;5;241m=\u001b[39m cap\u001b[38;5;241m.\u001b[39mread()\n\u001b[1;32m      9\u001b[0m         \u001b[38;5;28;01mif\u001b[39;00m \u001b[38;5;129;01mnot\u001b[39;00m ret:\n",
      "\u001b[0;31mNameError\u001b[0m: name 'caps' is not defined"
     ]
    }
   ],
   "source": [
    "import cv2\n",
    "\n",
    "\n",
    "while True:\n",
    "    idx = 0\n",
    "    for cap in caps:\n",
    "        ret, frame = cap.read()\n",
    "\n",
    "        if not ret:\n",
    "            break\n",
    "\n",
    "        gray = cv2.cvtColor(frame, cv2.COLOR_BGR2GRAY)\n",
    "        corners, ids, _ = cv2.aruco.detectMarkers(\n",
    "            image=gray,\n",
    "            dictionary=cv2.aruco.getPredefinedDictionary(cv2.aruco.DICT_4X4_50)\n",
    "        )\n",
    "        if ids is not None and 0 in ids:\n",
    "            for corner_idx in range(len(ids)):\n",
    "                if ids[corner_idx] == 0:\n",
    "                    cv2.aruco.drawDetectedMarkers(\n",
    "                        frame, \n",
    "                        corners=corners, \n",
    "                        ids=ids\n",
    "                        )\n",
    "                    break\n",
    "        idx += 1\n",
    "        cv2.imshow(f'cam{idx}', cv2.resize(src=frame, dsize=None, fx=0.35, fy=0.35))\n",
    "    if cv2.waitKey(10) == 27:\n",
    "        break\n",
    "\n",
    "\n",
    "cv2.imshow('huh', frame)\n",
    "cv2.waitKey(1000)\n",
    "cv2.destroyAllWindows()"
   ]
  },
  {
   "cell_type": "code",
   "execution_count": 48,
   "metadata": {},
   "outputs": [],
   "source": [
    "for cap in caps:\n",
    "    cap.release()\n",
    "\n",
    "cv2.destroyAllWindows()"
   ]
  },
  {
   "cell_type": "code",
   "execution_count": null,
   "metadata": {},
   "outputs": [],
   "source": []
  }
 ],
 "metadata": {
  "kernelspec": {
   "display_name": "Python 3",
   "language": "python",
   "name": "python3"
  },
  "language_info": {
   "codemirror_mode": {
    "name": "ipython",
    "version": 3
   },
   "file_extension": ".py",
   "mimetype": "text/x-python",
   "name": "python",
   "nbconvert_exporter": "python",
   "pygments_lexer": "ipython3",
   "version": "3.12.8"
  }
 },
 "nbformat": 4,
 "nbformat_minor": 2
}
