{
 "cells": [
  {
   "cell_type": "code",
   "execution_count": 1,
   "metadata": {},
   "outputs": [
    {
     "name": "stdout",
     "output_type": "stream",
     "text": [
      "Image size is (1920, 1080)\n",
      "Image size is (1920, 1080)\n",
      "[array([[ 1.30658287],\n",
      "       [-0.24183669],\n",
      "       [-0.36029694]]), array([[0.8370347 ],\n",
      "       [0.50877275],\n",
      "       [1.42079534]])]\n"
     ]
    }
   ],
   "source": [
    "import os\n",
    "from triangulator import create_triangulator_from_files\n",
    "\n",
    "import sys\n",
    "sys.path.append('../')\n",
    "from utils.file_utils import create_capture_from_json\n",
    "\n",
    "calibration_folder = '../calibration/calibration_data/'\n",
    "intr_L = os.path.join(calibration_folder, 'calibration_L_frames=623_error=1.5265531081871597.pkl')\n",
    "intr_R = os.path.join(calibration_folder, 'calibration_R_frames=624_error=0.99089142253755.pkl')\n",
    "orientation_L = '../calibration/orientation_video_L.mp4.pkl'\n",
    "orientation_R = '../calibration/orientation_video_R.mp4.pkl'\n",
    "\n",
    "triangulator = create_triangulator_from_files(\n",
    "    intr_files=[intr_L, intr_R],\n",
    "    orientation_files=[orientation_L, orientation_R]\n",
    ")"
   ]
  },
  {
   "cell_type": "code",
   "execution_count": 2,
   "metadata": {},
   "outputs": [
    {
     "name": "stdout",
     "output_type": "stream",
     "text": [
      "[833.46269592 753.58957361   1.        ]\n",
      "[-0.00070214  0.1955762   0.00064989]\n"
     ]
    }
   ],
   "source": [
    "zero_point_L = (834, 751)\n",
    "zero_point_R = (767, 887)\n",
    "\n",
    "position_q = (triangulator.projection_matrices[0] @ [0, 0, 0, 1])\n",
    "position_q = position_q / position_q[-1]\n",
    "print(position_q)\n",
    "print(triangulator.triangulate([zero_point_L, zero_point_R]))"
   ]
  },
  {
   "cell_type": "code",
   "execution_count": null,
   "metadata": {},
   "outputs": [],
   "source": [
    "p1, p2, p3 = tuple(triangulator.projection_matrices[0])\n",
    "print(p1)\n",
    "print(p2)\n",
    "print(p3)\n",
    "print(triangulator.projection_matrices[0])"
   ]
  },
  {
   "cell_type": "code",
   "execution_count": null,
   "metadata": {},
   "outputs": [],
   "source": [
    "caps = [\n",
    "    create_capture_from_json(4, '../config/capture_params.json'),\n",
    "    create_capture_from_json(2, '../config/capture_params.json')\n",
    "]"
   ]
  },
  {
   "cell_type": "code",
   "execution_count": null,
   "metadata": {},
   "outputs": [],
   "source": [
    "import cv2\n",
    "\n",
    "\n",
    "while True:\n",
    "    idx = 0\n",
    "    for cap in caps:\n",
    "        ret, frame = cap.read()\n",
    "\n",
    "        if not ret:\n",
    "            break\n",
    "\n",
    "        gray = cv2.cvtColor(frame, cv2.COLOR_BGR2GRAY)\n",
    "        corners, ids, _ = cv2.aruco.detectMarkers(\n",
    "            image=gray,\n",
    "            dictionary=cv2.aruco.getPredefinedDictionary(cv2.aruco.DICT_4X4_50)\n",
    "        )\n",
    "        if ids is not None and 0 in ids:\n",
    "            for corner_idx in range(len(ids)):\n",
    "                if ids[corner_idx] == 0:\n",
    "                    cv2.aruco.drawDetectedMarkers(\n",
    "                        frame, \n",
    "                        corners=corners, \n",
    "                        ids=ids\n",
    "                        )\n",
    "                    break\n",
    "        idx += 1\n",
    "        cv2.imshow(f'cam{idx}', cv2.resize(src=frame, dsize=None, fx=0.35, fy=0.35))\n",
    "    if cv2.waitKey(10) == 27:\n",
    "        break\n",
    "\n",
    "\n",
    "cv2.imshow('huh', frame)\n",
    "cv2.waitKey(1000)\n",
    "cv2.destroyAllWindows()"
   ]
  },
  {
   "cell_type": "code",
   "execution_count": 48,
   "metadata": {},
   "outputs": [],
   "source": [
    "for cap in caps:\n",
    "    cap.release()\n",
    "\n",
    "cv2.destroyAllWindows()"
   ]
  },
  {
   "cell_type": "code",
   "execution_count": null,
   "metadata": {},
   "outputs": [],
   "source": []
  }
 ],
 "metadata": {
  "kernelspec": {
   "display_name": "Python 3",
   "language": "python",
   "name": "python3"
  },
  "language_info": {
   "codemirror_mode": {
    "name": "ipython",
    "version": 3
   },
   "file_extension": ".py",
   "mimetype": "text/x-python",
   "name": "python",
   "nbconvert_exporter": "python",
   "pygments_lexer": "ipython3",
   "version": "3.12.8"
  }
 },
 "nbformat": 4,
 "nbformat_minor": 2
}
